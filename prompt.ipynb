{
  "cells": [
    {
      "cell_type": "markdown",
      "metadata": {
        "id": "view-in-github",
        "colab_type": "text"
      },
      "source": [
        "<a href=\"https://colab.research.google.com/github/gitgubbenito/Application-1---Coupones/blob/main/prompt.ipynb\" target=\"_parent\"><img src=\"https://colab.research.google.com/assets/colab-badge.svg\" alt=\"Open In Colab\"/></a>"
      ]
    },
    {
      "cell_type": "markdown",
      "metadata": {
        "id": "4LV6YbGs7Vfg"
      },
      "source": [
        "### Will a Customer Accept the Coupon?\n",
        "\n",
        "**Context**\n",
        "\n",
        "Imagine driving through town and a coupon is delivered to your cell phone for a restaraunt near where you are driving. Would you accept that coupon and take a short detour to the restaraunt? Would you accept the coupon but use it on a sunbsequent trip? Would you ignore the coupon entirely? What if the coupon was for a bar instead of a restaraunt? What about a coffee house? Would you accept a bar coupon with a minor passenger in the car? What about if it was just you and your partner in the car? Would weather impact the rate of acceptance? What about the time of day?\n",
        "\n",
        "Obviously, proximity to the business is a factor on whether the coupon is delivered to the driver or not, but what are the factors that determine whether a driver accepts the coupon once it is delivered to them? How would you determine whether a driver is likely to accept a coupon?\n",
        "\n",
        "**Overview**\n",
        "\n",
        "The goal of this project is to use what you know about visualizations and probability distributions to distinguish between customers who accepted a driving coupon versus those that did not.\n",
        "\n",
        "**Data**\n",
        "\n",
        "This data comes to us from the UCI Machine Learning repository and was collected via a survey on Amazon Mechanical Turk. The survey describes different driving scenarios including the destination, current time, weather, passenger, etc., and then ask the person whether he will accept the coupon if he is the driver. Answers that the user will drive there ‘right away’ or ‘later before the coupon expires’ are labeled as ‘Y = 1’ and answers ‘no, I do not want the coupon’ are labeled as ‘Y = 0’.  There are five different types of coupons -- less expensive restaurants (under \\\\$20), coffee houses, carry out & take away, bar, and more expensive restaurants (\\\\$20 - \\\\$50)."
      ]
    },
    {
      "cell_type": "markdown",
      "metadata": {
        "id": "h0PVllOK7Vfj"
      },
      "source": [
        "**Deliverables**\n",
        "\n",
        "Your final product should be a brief report that highlights the differences between customers who did and did not accept the coupons.  To explore the data you will utilize your knowledge of plotting, statistical summaries, and visualization using Python. You will publish your findings in a public facing github repository as your first portfolio piece.\n",
        "\n",
        "\n",
        "\n"
      ]
    },
    {
      "cell_type": "markdown",
      "metadata": {
        "id": "sJfV6hHz7Vfk"
      },
      "source": [
        "### Data Description\n",
        "Keep in mind that these values mentioned below are average values.\n",
        "\n",
        "The attributes of this data set include:\n",
        "1. User attributes\n",
        "    -  Gender: male, female\n",
        "    -  Age: below 21, 21 to 25, 26 to 30, etc.\n",
        "    -  Marital Status: single, married partner, unmarried partner, or widowed\n",
        "    -  Number of children: 0, 1, or more than 1\n",
        "    -  Education: high school, bachelors degree, associates degree, or graduate degree\n",
        "    -  Occupation: architecture & engineering, business & financial, etc.\n",
        "    -  Annual income: less than \\\\$12500, \\\\$12500 - \\\\$24999, \\\\$25000 - \\\\$37499, etc.\n",
        "    -  Number of times that he/she goes to a bar: 0, less than 1, 1 to 3, 4 to 8 or greater than 8\n",
        "    -  Number of times that he/she buys takeaway food: 0, less than 1, 1 to 3, 4 to 8 or greater\n",
        "    than 8\n",
        "    -  Number of times that he/she goes to a coffee house: 0, less than 1, 1 to 3, 4 to 8 or\n",
        "    greater than 8\n",
        "    -  Number of times that he/she eats at a restaurant with average expense less than \\\\$20 per\n",
        "    person: 0, less than 1, 1 to 3, 4 to 8 or greater than 8\n",
        "    -  Number of times that he/she goes to a bar: 0, less than 1, 1 to 3, 4 to 8 or greater than 8\n",
        "    \n",
        "\n",
        "2. Contextual attributes\n",
        "    - Driving destination: home, work, or no urgent destination\n",
        "    - Location of user, coupon and destination: we provide a map to show the geographical\n",
        "    location of the user, destination, and the venue, and we mark the distance between each\n",
        "    two places with time of driving. The user can see whether the venue is in the same\n",
        "    direction as the destination.\n",
        "    - Weather: sunny, rainy, or snowy\n",
        "    - Temperature: 30F, 55F, or 80F\n",
        "    - Time: 10AM, 2PM, or 6PM\n",
        "    - Passenger: alone, partner, kid(s), or friend(s)\n",
        "\n",
        "\n",
        "3. Coupon attributes\n",
        "    - time before it expires: 2 hours or one day"
      ]
    },
    {
      "cell_type": "code",
      "execution_count": 86,
      "metadata": {
        "id": "3JEvcTIe7Vfk"
      },
      "outputs": [],
      "source": [
        "import matplotlib.pyplot as plt\n",
        "import seaborn as sns\n",
        "import pandas as pd\n",
        "import numpy as np\n"
      ]
    },
    {
      "cell_type": "markdown",
      "metadata": {
        "id": "OWNoaPU37Vfl"
      },
      "source": [
        "### Problems\n",
        "\n",
        "Use the prompts below to get started with your data analysis.  \n",
        "\n",
        "1. Read in the `coupons.csv` file.\n",
        "\n",
        "\n"
      ]
    },
    {
      "cell_type": "code",
      "execution_count": 87,
      "metadata": {
        "id": "IlCuXAny7Vfl"
      },
      "outputs": [],
      "source": [
        "data = pd.read_csv('coupons.csv')"
      ]
    },
    {
      "cell_type": "markdown",
      "metadata": {
        "id": "o4k4t4hY7Vfm"
      },
      "source": [
        "2. Investigate the dataset for missing or problematic data."
      ]
    },
    {
      "cell_type": "code",
      "execution_count": 88,
      "metadata": {
        "colab": {
          "base_uri": "https://localhost:8080/"
        },
        "id": "Z1ubqqXh7Vfm",
        "outputId": "ff61dca0-1888-4114-9bbf-73b650809527"
      },
      "outputs": [
        {
          "output_type": "stream",
          "name": "stdout",
          "text": [
            "<class 'pandas.core.frame.DataFrame'>\n",
            "RangeIndex: 12684 entries, 0 to 12683\n",
            "Data columns (total 26 columns):\n",
            " #   Column                Non-Null Count  Dtype \n",
            "---  ------                --------------  ----- \n",
            " 0   destination           12684 non-null  object\n",
            " 1   passanger             12684 non-null  object\n",
            " 2   weather               12684 non-null  object\n",
            " 3   temperature           12684 non-null  int64 \n",
            " 4   time                  12684 non-null  object\n",
            " 5   coupon                12684 non-null  object\n",
            " 6   expiration            12684 non-null  object\n",
            " 7   gender                12684 non-null  object\n",
            " 8   age                   12684 non-null  object\n",
            " 9   maritalStatus         12684 non-null  object\n",
            " 10  has_children          12684 non-null  int64 \n",
            " 11  education             12684 non-null  object\n",
            " 12  occupation            12684 non-null  object\n",
            " 13  income                12684 non-null  object\n",
            " 14  car                   108 non-null    object\n",
            " 15  Bar                   12577 non-null  object\n",
            " 16  CoffeeHouse           12467 non-null  object\n",
            " 17  CarryAway             12533 non-null  object\n",
            " 18  RestaurantLessThan20  12554 non-null  object\n",
            " 19  Restaurant20To50      12495 non-null  object\n",
            " 20  toCoupon_GEQ5min      12684 non-null  int64 \n",
            " 21  toCoupon_GEQ15min     12684 non-null  int64 \n",
            " 22  toCoupon_GEQ25min     12684 non-null  int64 \n",
            " 23  direction_same        12684 non-null  int64 \n",
            " 24  direction_opp         12684 non-null  int64 \n",
            " 25  Y                     12684 non-null  int64 \n",
            "dtypes: int64(8), object(18)\n",
            "memory usage: 2.5+ MB\n",
            "        temperature  has_children  toCoupon_GEQ5min  toCoupon_GEQ15min  \\\n",
            "count  12684.000000  12684.000000           12684.0       12684.000000   \n",
            "mean      63.301798      0.414144               1.0           0.561495   \n",
            "std       19.154486      0.492593               0.0           0.496224   \n",
            "min       30.000000      0.000000               1.0           0.000000   \n",
            "25%       55.000000      0.000000               1.0           0.000000   \n",
            "50%       80.000000      0.000000               1.0           1.000000   \n",
            "75%       80.000000      1.000000               1.0           1.000000   \n",
            "max       80.000000      1.000000               1.0           1.000000   \n",
            "\n",
            "       toCoupon_GEQ25min  direction_same  direction_opp             Y  \n",
            "count       12684.000000    12684.000000   12684.000000  12684.000000  \n",
            "mean            0.119126        0.214759       0.785241      0.568433  \n",
            "std             0.323950        0.410671       0.410671      0.495314  \n",
            "min             0.000000        0.000000       0.000000      0.000000  \n",
            "25%             0.000000        0.000000       1.000000      0.000000  \n",
            "50%             0.000000        0.000000       1.000000      1.000000  \n",
            "75%             0.000000        0.000000       1.000000      1.000000  \n",
            "max             1.000000        1.000000       1.000000      1.000000  \n"
          ]
        },
        {
          "output_type": "execute_result",
          "data": {
            "text/plain": [
              "destination                 0\n",
              "passanger                   0\n",
              "weather                     0\n",
              "temperature                 0\n",
              "time                        0\n",
              "coupon                      0\n",
              "expiration                  0\n",
              "gender                      0\n",
              "age                         0\n",
              "maritalStatus               0\n",
              "has_children                0\n",
              "education                   0\n",
              "occupation                  0\n",
              "income                      0\n",
              "car                     12576\n",
              "Bar                       107\n",
              "CoffeeHouse               217\n",
              "CarryAway                 151\n",
              "RestaurantLessThan20      130\n",
              "Restaurant20To50          189\n",
              "toCoupon_GEQ5min            0\n",
              "toCoupon_GEQ15min           0\n",
              "toCoupon_GEQ25min           0\n",
              "direction_same              0\n",
              "direction_opp               0\n",
              "Y                           0\n",
              "dtype: int64"
            ]
          },
          "metadata": {},
          "execution_count": 88
        }
      ],
      "source": [
        "data.info()\n",
        "data.head()\n",
        "print(data.describe())\n",
        "data.isnull().sum()\n",
        "\n",
        "\n",
        "#-------------------------------\n",
        "#ata.isnull().values.any()\n",
        "#print(data.describe())\n",
        "#data.notnull().sum()\n",
        "#print(data.head())\n",
        "#print(data.dtypes)\n",
        "#data.replace(\"$\", \"\")\n",
        "#data.head()\n",
        "\n",
        "\n"
      ]
    },
    {
      "cell_type": "markdown",
      "metadata": {
        "id": "Pay9-p_m7Vfm"
      },
      "source": [
        "3. Decide what to do about your missing data -- drop, replace, other...\n",
        "\n",
        "**Argeni Lopez: Given that car column has no value, we will drop the column**"
      ]
    },
    {
      "cell_type": "code",
      "execution_count": 89,
      "metadata": {
        "colab": {
          "base_uri": "https://localhost:8080/"
        },
        "id": "-1tbBc4H7Vfn",
        "outputId": "518ab55e-43ca-4ba2-f1be-ee86c771f3e4"
      },
      "outputs": [
        {
          "output_type": "execute_result",
          "data": {
            "text/plain": [
              "destination               0\n",
              "passanger                 0\n",
              "weather                   0\n",
              "temperature               0\n",
              "time                      0\n",
              "coupon                    0\n",
              "expiration                0\n",
              "gender                    0\n",
              "age                       0\n",
              "maritalStatus             0\n",
              "has_children              0\n",
              "education                 0\n",
              "occupation                0\n",
              "income                    0\n",
              "Bar                     107\n",
              "CoffeeHouse             217\n",
              "CarryAway               151\n",
              "RestaurantLessThan20    130\n",
              "Restaurant20To50        189\n",
              "toCoupon_GEQ5min          0\n",
              "toCoupon_GEQ15min         0\n",
              "toCoupon_GEQ25min         0\n",
              "direction_same            0\n",
              "direction_opp             0\n",
              "Y                         0\n",
              "dtype: int64"
            ]
          },
          "metadata": {},
          "execution_count": 89
        }
      ],
      "source": [
        "del data['car']\n",
        "data.isnull().sum()"
      ]
    },
    {
      "cell_type": "markdown",
      "metadata": {
        "id": "_fHDzSdJ7Vfn"
      },
      "source": [
        "4. What proportion of the total observations chose to accept the coupon?\n",
        "\n",
        "**Argenis Lopez aproximate 57% chose to accept the coupon**\n",
        "\n",
        "proportions = data.groupby('Y')['Y'].size() / len(data)\n",
        "\n",
        " 0.568433 *italicized text* *italicized text*\n",
        "\n"
      ]
    },
    {
      "cell_type": "markdown",
      "source": [
        "\n",
        "\n"
      ],
      "metadata": {
        "id": "BUW0-SoEqOOV"
      }
    },
    {
      "cell_type": "code",
      "execution_count": 90,
      "metadata": {
        "id": "Vxqhq3-m7Vfn",
        "colab": {
          "base_uri": "https://localhost:8080/"
        },
        "outputId": "4f2c1cff-1ba2-4a65-a8f9-a37dde7fc766"
      },
      "outputs": [
        {
          "output_type": "stream",
          "name": "stdout",
          "text": [
            "Y\n",
            "0    0.431567\n",
            "1    0.568433\n",
            "Name: Y, dtype: float64\n"
          ]
        }
      ],
      "source": [
        "proportions = data.groupby('Y')['Y'].size() / len(data)\n",
        "print(proportions)\n",
        "\n",
        "#---------------------\n",
        "#groupOfTickets =data.groupby(['Y'])\n",
        "#groupOfTickets.first()\n"
      ]
    },
    {
      "cell_type": "markdown",
      "metadata": {
        "id": "elkZI-N67Vfn"
      },
      "source": [
        "5. Use a bar plot to visualize the `coupon` column."
      ]
    },
    {
      "cell_type": "markdown",
      "source": [],
      "metadata": {
        "id": "n56p1btJqLWY"
      }
    },
    {
      "cell_type": "code",
      "source": [
        "category_counts = data['coupon'].value_counts()\n",
        "print(category_counts)\n",
        "category_counts.plot(kind='bar')\n",
        "plt.xlabel('Category')\n",
        "plt.ylabel('Count')\n",
        "plt.title('Count of Each Category')\n",
        "plt.show()\n",
        "#---------------------\n",
        "#sns.barplot(data = data, x = \"coupon\", y = \"count\")\n",
        "#plt.xticks(rotation = 45)\n",
        "#fig = px.bar(data, x = \"gender\", y = \"passenger\", color = \"Cylinder Count\",color_discrete_sequence=px.colors.qualitative.G10)\n",
        "#fig.show()\n",
        "#px.line(branded_cars, x = \"Brand Name\", y = \"Price in Dollars\", color = \"Cylinder Count\")\n"
      ],
      "metadata": {
        "colab": {
          "base_uri": "https://localhost:8080/",
          "height": 718
        },
        "id": "3hwmlNlX8Irk",
        "outputId": "24223e65-ca5d-4917-ebc8-e7a8af7edf74"
      },
      "execution_count": 79,
      "outputs": [
        {
          "output_type": "stream",
          "name": "stdout",
          "text": [
            "Coffee House             3996\n",
            "Restaurant(<20)          2786\n",
            "Carry out & Take away    2393\n",
            "Bar                      2017\n",
            "Restaurant(20-50)        1492\n",
            "Name: coupon, dtype: int64\n"
          ]
        },
        {
          "output_type": "display_data",
          "data": {
            "text/plain": [
              "<Figure size 640x480 with 1 Axes>"
            ],
            "image/png": "[encoded data removed]"
          },
          "metadata": {}
        }
      ]
    },
    {
      "cell_type": "markdown",
      "metadata": {
        "id": "oNY7J7oR7Vfn"
      },
      "source": [
        "6. Use a histogram to visualize the temperature column."
      ]
    },
    {
      "cell_type": "code",
      "execution_count": 91,
      "metadata": {
        "id": "UqdzTh_Y7Vfn",
        "colab": {
          "base_uri": "https://localhost:8080/",
          "height": 447
        },
        "outputId": "718bf6d0-c3eb-4803-804b-458f88694e0b"
      },
      "outputs": [
        {
          "output_type": "execute_result",
          "data": {
            "text/plain": [
              "<Axes: ylabel='Frequency'>"
            ]
          },
          "metadata": {},
          "execution_count": 91
        },
        {
          "output_type": "display_data",
          "data": {
            "text/plain": [
              "<Figure size 640x480 with 1 Axes>"
            ],
            "image/png": "[encoded data removed]"
          },
          "metadata": {}
        }
      ],
      "source": [
        "data['temperature'].plot.hist()\n",
        "\n",
        "#-----------------------\n",
        "#data_hist = data.hist(bins=100,figsize=(10, 10))\n",
        "#plt.tight_layout()\n",
        "#plt.show()\n",
        "\n"
      ]
    },
    {
      "cell_type": "markdown",
      "metadata": {
        "id": "aKdvqzCS7Vfo"
      },
      "source": [
        "**Investigating the Bar Coupons**\n",
        "\n",
        "Now, we will lead you through an exploration of just the bar related coupons.  \n",
        "\n",
        "1. Create a new `DataFrame` that contains just the bar coupons.\n"
      ]
    },
    {
      "cell_type": "code",
      "execution_count": 92,
      "metadata": {
        "id": "bPe1_26B7Vfo",
        "colab": {
          "base_uri": "https://localhost:8080/",
          "height": 708
        },
        "outputId": "5e591713-c35e-4f50-e9da-3367950d5597"
      },
      "outputs": [
        {
          "output_type": "stream",
          "name": "stdout",
          "text": [
            "------------ Describe --------------\n",
            "count     12577\n",
            "unique        5\n",
            "top       never\n",
            "freq       5197\n",
            "Name: Bar, dtype: object\n",
            "------------ Info --------------\n",
            "<class 'pandas.core.series.Series'>\n",
            "RangeIndex: 12684 entries, 0 to 12683\n",
            "Series name: Bar\n",
            "Non-Null Count  Dtype \n",
            "--------------  ----- \n",
            "12577 non-null  object\n",
            "dtypes: object(1)\n",
            "memory usage: 99.2+ KB\n"
          ]
        },
        {
          "output_type": "execute_result",
          "data": {
            "text/plain": [
              "<Axes: >"
            ]
          },
          "metadata": {},
          "execution_count": 92
        },
        {
          "output_type": "display_data",
          "data": {
            "text/plain": [
              "<Figure size 640x480 with 1 Axes>"
            ],
            "image/png": "[encoded data removed]"
          },
          "metadata": {}
        }
      ],
      "source": [
        "new_dataframe = data['Bar']\n",
        "print(\"------------ Describe --------------\")\n",
        "print(new_dataframe.describe())\n",
        "print(\"------------ Info --------------\")\n",
        "new_dataframe.info()\n",
        "new_dataframe.hist()\n",
        "\n",
        "\n",
        "\n",
        "#-----------------------\n",
        "#new_dataframe.info()\n",
        "#new_dataframe.head()\n",
        "#new_dataframe.hist()\n",
        "\n"
      ]
    },
    {
      "cell_type": "markdown",
      "metadata": {
        "id": "NXYMLsoT7Vfo"
      },
      "source": [
        "2. What proportion of bar coupons were accepted?\n",
        "\n",
        "    **Argenis Lopez: About 16% were accepted**\n"
      ]
    },
    {
      "cell_type": "code",
      "execution_count": 93,
      "metadata": {
        "id": "NDNf_MEf7Vfo",
        "colab": {
          "base_uri": "https://localhost:8080/"
        },
        "outputId": "bdfc3f90-e402-42d7-8746-c56214264b1c"
      },
      "outputs": [
        {
          "output_type": "stream",
          "name": "stdout",
          "text": [
            "coupon\n",
            "Bar                      0.159019\n",
            "Carry out & Take away    0.188663\n",
            "Coffee House             0.315043\n",
            "Restaurant(20-50)        0.117629\n",
            "Restaurant(<20)          0.219647\n",
            "Name: coupon, dtype: float64\n"
          ]
        }
      ],
      "source": [
        "proportions = data.groupby('coupon')['coupon'].size() / len(data)\n",
        "print(proportions)"
      ]
    },
    {
      "cell_type": "markdown",
      "metadata": {
        "id": "gr-nLIsZ7Vfo"
      },
      "source": [
        "3. Compare the acceptance rate between those who went to a bar 3 or fewer times a month to those who went more.\n",
        "\n",
        "  **About 19 when to a bar less that 3 times**\n"
      ]
    },
    {
      "cell_type": "code",
      "source": [],
      "metadata": {
        "id": "R4Et2--1XB8n"
      },
      "execution_count": null,
      "outputs": []
    },
    {
      "cell_type": "code",
      "execution_count": 94,
      "metadata": {
        "id": "_WqOV9sy7Vfo",
        "colab": {
          "base_uri": "https://localhost:8080/"
        },
        "outputId": "0149b445-ba4c-4a82-dffb-953c8c956acd"
      },
      "outputs": [
        {
          "output_type": "stream",
          "name": "stdout",
          "text": [
            "-------Printing proportions--------\n",
            "Bar\n",
            "1~3    0.19497\n",
            "Name: Y, dtype: float64\n"
          ]
        }
      ],
      "source": [
        "filtered_df = data.query(\"Bar == '1~3'\").groupby('Bar')['Y'].count()\n",
        "group_sizes = data.groupby('coupon')['Bar'].size()\n",
        "proportions = group_sizes / len(data)\n",
        "print('-------Printing proportions--------')\n",
        "print(filtered_df/len(data))\n",
        "#print(filtered_df)\n",
        "\n",
        "\n",
        "#---------------------------\n",
        "\n",
        "\n",
        "#proportions = data.groupby(['coupon','Bar','CoffeeHouse','CarryAway'])['Y'].count()\n",
        "#proportions = data.groupby(['coupon','Bar'])['Y'].count()\n",
        "#proportions = data.groupby(['coupon','Bar'])['Y'].size()\n",
        "#filtered_df_count = data.query(\"Bar == '1~3'\")['Y'].count()\n",
        "#print(filtered_df)\n",
        "#proportions = data.groupby('coupon')['Bar'].size()\n",
        "#print(filtered_df)\n",
        "#new_dataframe = data['coupon']\n",
        "#new_dataGroupBy=data.groupby('coupon')\n",
        "#print(new_dataframe)\n",
        "#print(new_dataGroupBy)\n",
        "#bar_frequency_groups = new_dataframe.groupby(pd.cut(data['coupon'], bins=[0, 3, 10]))"
      ]
    },
    {
      "cell_type": "markdown",
      "metadata": {
        "id": "xudvzm1_7Vfp"
      },
      "source": [
        "4. Compare the acceptance rate between drivers who go to a bar more than once a month and are over the age of 25 to the all others.  Is there a difference?\n",
        "\n",
        "**Argenis Lopez: I assume that Bar is on monthly basis**\n"
      ]
    },
    {
      "cell_type": "code",
      "execution_count": 95,
      "metadata": {
        "id": "OiQ3Wivv7Vfp",
        "colab": {
          "base_uri": "https://localhost:8080/"
        },
        "outputId": "4177593f-8c68-4209-bc92-45bbd68b4e18"
      },
      "outputs": [
        {
          "output_type": "stream",
          "name": "stdout",
          "text": [
            "coupon           Bar    Y  age    \n",
            "Bar              1~3    0  21         0.003075\n",
            "                           26         0.002129\n",
            "                           31         0.001971\n",
            "                           36         0.001104\n",
            "                           41         0.000788\n",
            "                                        ...   \n",
            "Restaurant(<20)  never  1  36         0.006071\n",
            "                           41         0.003784\n",
            "                           46         0.004888\n",
            "                           50plus     0.010643\n",
            "                           below21    0.005755\n",
            "Name: Y, Length: 356, dtype: float64\n"
          ]
        }
      ],
      "source": [
        "data_frame=data.groupby(['coupon','Bar','Y','age'])['Y'].count()/len(data)\n",
        "print(data_frame)\n",
        "#data.query('age>25')\n",
        "#print(data.query('age>25'))\n"
      ]
    },
    {
      "cell_type": "markdown",
      "metadata": {
        "id": "rRbCImrw7Vfp"
      },
      "source": [
        "5. Use the same process to compare the acceptance rate between drivers who go to bars more than once a month and had passengers that were not a kid and had occupations other than farming, fishing, or forestry.\n"
      ]
    },
    {
      "cell_type": "code",
      "execution_count": 96,
      "metadata": {
        "id": "cwjR0_xM7Vfp",
        "colab": {
          "base_uri": "https://localhost:8080/",
          "height": 384
        },
        "outputId": "f21fac2b-0e9e-49ba-93ff-2d4bf1006804"
      },
      "outputs": [
        {
          "output_type": "error",
          "ename": "AttributeError",
          "evalue": "'Series' object has no attribute 'query'",
          "traceback": [
            "\u001b[0;31m---------------------------------------------------------------------------\u001b[0m",
            "\u001b[0;31mAttributeError\u001b[0m                            Traceback (most recent call last)",
            "\u001b[0;32m<ipython-input-96-447f3b58ca5f>\u001b[0m in \u001b[0;36m<cell line: 1>\u001b[0;34m()\u001b[0m\n\u001b[0;32m----> 1\u001b[0;31m \u001b[0mfiltered_df\u001b[0m \u001b[0;34m=\u001b[0m \u001b[0mdata_frame\u001b[0m\u001b[0;34m.\u001b[0m\u001b[0mquery\u001b[0m\u001b[0;34m(\u001b[0m\u001b[0;34m\"passanger != 'Kid(s)' and occupation!='fishing' and occupation!='forestry' and  occupation != 'farming'\"\u001b[0m\u001b[0;34m)\u001b[0m\u001b[0;34m.\u001b[0m\u001b[0mgroupby\u001b[0m\u001b[0;34m(\u001b[0m\u001b[0;34m'Bar'\u001b[0m\u001b[0;34m)\u001b[0m\u001b[0;34m[\u001b[0m\u001b[0;34m'Y'\u001b[0m\u001b[0;34m]\u001b[0m\u001b[0;34m.\u001b[0m\u001b[0mcount\u001b[0m\u001b[0;34m(\u001b[0m\u001b[0;34m)\u001b[0m\u001b[0;34m/\u001b[0m\u001b[0mlen\u001b[0m\u001b[0;34m(\u001b[0m\u001b[0mdata\u001b[0m\u001b[0;34m)\u001b[0m\u001b[0;34m\u001b[0m\u001b[0;34m\u001b[0m\u001b[0m\n\u001b[0m\u001b[1;32m      2\u001b[0m \u001b[0mprint\u001b[0m\u001b[0;34m(\u001b[0m\u001b[0mfiltered_df\u001b[0m\u001b[0;34m)\u001b[0m\u001b[0;34m\u001b[0m\u001b[0;34m\u001b[0m\u001b[0m\n\u001b[1;32m      3\u001b[0m \u001b[0;34m\u001b[0m\u001b[0m\n\u001b[1;32m      4\u001b[0m \u001b[0;31m#group_sizes = filtered_df.groupby('coupon')['Bar'].size()\u001b[0m\u001b[0;34m\u001b[0m\u001b[0;34m\u001b[0m\u001b[0m\n\u001b[1;32m      5\u001b[0m \u001b[0;31m#proportions = group_sizes / len(filtered_df)\u001b[0m\u001b[0;34m\u001b[0m\u001b[0;34m\u001b[0m\u001b[0m\n",
            "\u001b[0;32m/usr/local/lib/python3.10/dist-packages/pandas/core/generic.py\u001b[0m in \u001b[0;36m__getattr__\u001b[0;34m(self, name)\u001b[0m\n\u001b[1;32m   5900\u001b[0m         ):\n\u001b[1;32m   5901\u001b[0m             \u001b[0;32mreturn\u001b[0m \u001b[0mself\u001b[0m\u001b[0;34m[\u001b[0m\u001b[0mname\u001b[0m\u001b[0;34m]\u001b[0m\u001b[0;34m\u001b[0m\u001b[0;34m\u001b[0m\u001b[0m\n\u001b[0;32m-> 5902\u001b[0;31m         \u001b[0;32mreturn\u001b[0m \u001b[0mobject\u001b[0m\u001b[0;34m.\u001b[0m\u001b[0m__getattribute__\u001b[0m\u001b[0;34m(\u001b[0m\u001b[0mself\u001b[0m\u001b[0;34m,\u001b[0m \u001b[0mname\u001b[0m\u001b[0;34m)\u001b[0m\u001b[0;34m\u001b[0m\u001b[0;34m\u001b[0m\u001b[0m\n\u001b[0m\u001b[1;32m   5903\u001b[0m \u001b[0;34m\u001b[0m\u001b[0m\n\u001b[1;32m   5904\u001b[0m     \u001b[0;32mdef\u001b[0m \u001b[0m__setattr__\u001b[0m\u001b[0;34m(\u001b[0m\u001b[0mself\u001b[0m\u001b[0;34m,\u001b[0m \u001b[0mname\u001b[0m\u001b[0;34m:\u001b[0m \u001b[0mstr\u001b[0m\u001b[0;34m,\u001b[0m \u001b[0mvalue\u001b[0m\u001b[0;34m)\u001b[0m \u001b[0;34m->\u001b[0m \u001b[0;32mNone\u001b[0m\u001b[0;34m:\u001b[0m\u001b[0;34m\u001b[0m\u001b[0;34m\u001b[0m\u001b[0m\n",
            "\u001b[0;31mAttributeError\u001b[0m: 'Series' object has no attribute 'query'"
          ]
        }
      ],
      "source": [
        "filtered_df = data.query(\"passanger != 'Kid(s)' and occupation!='fishing' and occupation!='forestry' and  occupation != 'farming'\").groupby('Bar')['Y'].count()/len(data)\n",
        "print(filtered_df)\n",
        "\n",
        "#group_sizes = filtered_df.groupby('coupon')['Bar'].size()\n",
        "#proportions = group_sizes / len(filtered_df)\n",
        "\n",
        "#filtered_df=data.groupby(['coupon','Bar','age','passanger','occupation'])['Y'].count()\n",
        "\n",
        "#group_sizes = filtered_df.groupby('coupon')['Bar'].size()\n",
        "#filtered_df = data.query(\"passanger != 'Kid(s)'\")\n",
        "#proportions = filtered_df.groupby('Bar')['Y'].count()\n",
        "\n",
        "\n",
        "# Print the proportions\n",
        "#print(proportions)"
      ]
    },
    {
      "cell_type": "markdown",
      "metadata": {
        "id": "4Xc4_XfQ7Vfp"
      },
      "source": [
        "6. Compare the acceptance rates between those drivers who:\n",
        "\n",
        "- go to bars more than once a month, had passengers that were not a kid, and were not widowed *OR*\n",
        "- go to bars more than once a month and are under the age of 30 *OR*\n",
        "- go to cheap restaurants more than 4 times a month and income is less than 50K.\n",
        "\n"
      ]
    },
    {
      "cell_type": "code",
      "execution_count": 97,
      "metadata": {
        "id": "yCgDJhjG7Vfp",
        "colab": {
          "base_uri": "https://localhost:8080/"
        },
        "outputId": "d1fdee0f-1a9e-4917-8113-ee2150a428bd"
      },
      "outputs": [
        {
          "output_type": "stream",
          "name": "stdout",
          "text": [
            "Bar    income           RestaurantLessThan20\n",
            "1~3    $12500 - $24999  4~8                     0.006544\n",
            "       $37500 - $49999  4~8                     0.002602\n",
            "4~8    $12500 - $24999  4~8                     0.005203\n",
            "       $37500 - $49999  4~8                     0.003469\n",
            "less1  $12500 - $24999  4~8                     0.001734\n",
            "never  $12500 - $24999  4~8                     0.006938\n",
            "       $37500 - $49999  4~8                     0.004730\n",
            "Name: Y, dtype: float64\n",
            "-------------------------------------\n"
          ]
        }
      ],
      "source": [
        "filtered_df = data.query(\"passanger != 'Kid(s)' and maritalStatus!='widowed' and age<'30' and  RestaurantLessThan20 == '4~8'and income in ('$37500 - $49999','$12500 - $24999','25000 - $37499') \").groupby(['Bar','income','RestaurantLessThan20'])['Y'].count()/len(data)\n",
        "print(filtered_df)\n",
        "#and income in ('$37500 - $49999')\n",
        "#or income == '$12500 - $24999'\n",
        "#or income == '25000 - $37499'\n",
        "print('-------------------------------------')\n",
        "\n",
        "\n"
      ]
    },
    {
      "cell_type": "markdown",
      "metadata": {
        "id": "8bsdgDk47Vfp"
      },
      "source": [
        "7.  Based on these observations, what do you hypothesize about drivers who accepted the bar coupons?\n",
        "\n",
        "Mayority of drivers who accepted"
      ]
    },
    {
      "cell_type": "code",
      "execution_count": 98,
      "metadata": {
        "id": "BiikYYHS7Vfq",
        "colab": {
          "base_uri": "https://localhost:8080/",
          "height": 580
        },
        "outputId": "362887e8-598b-4959-c951-f4dc38848d3c"
      },
      "outputs": [
        {
          "output_type": "stream",
          "name": "stdout",
          "text": [
            "coupon           Y  gender  passanger  destination    \n",
            "Bar              0  Female  Alone      Home                 0\n",
            "                                       No Urgent Place      0\n",
            "                                       Work                 0\n",
            "                            Friend(s)  No Urgent Place      0\n",
            "                            Kid(s)     Home                 0\n",
            "                                                         ... \n",
            "Restaurant(<20)  1  Male    Alone      Work               183\n",
            "                            Friend(s)  No Urgent Place    333\n",
            "                            Kid(s)     No Urgent Place     73\n",
            "                            Partner    Home                25\n",
            "                                       No Urgent Place     76\n",
            "Name: Y, Length: 148, dtype: int64\n"
          ]
        },
        {
          "output_type": "stream",
          "name": "stderr",
          "text": [
            "<ipython-input-98-fab3b85f44b7>:4: FutureWarning: The default value of numeric_only in DataFrame.corr is deprecated. In a future version, it will default to False. Select only valid columns or specify the value of numeric_only to silence this warning.\n",
            "  data.corr()\n"
          ]
        },
        {
          "output_type": "execute_result",
          "data": {
            "text/plain": [
              "                   temperature  has_children  toCoupon_GEQ5min  \\\n",
              "temperature           1.000000     -0.019716               NaN   \n",
              "has_children         -0.019716      1.000000               NaN   \n",
              "toCoupon_GEQ5min           NaN           NaN               NaN   \n",
              "toCoupon_GEQ15min    -0.155332      0.078211               NaN   \n",
              "toCoupon_GEQ25min    -0.216254     -0.013722               NaN   \n",
              "direction_same        0.097085     -0.031620               NaN   \n",
              "direction_opp        -0.097085      0.031620               NaN   \n",
              "Y                     0.061240     -0.045557               NaN   \n",
              "\n",
              "                   toCoupon_GEQ15min  toCoupon_GEQ25min  direction_same  \\\n",
              "temperature                -0.155332          -0.216254        0.097085   \n",
              "has_children                0.078211          -0.013722       -0.031620   \n",
              "toCoupon_GEQ5min                 NaN                NaN             NaN   \n",
              "toCoupon_GEQ15min           1.000000           0.324984       -0.303533   \n",
              "toCoupon_GEQ25min           0.324984           1.000000       -0.192319   \n",
              "direction_same             -0.303533          -0.192319        1.000000   \n",
              "direction_opp               0.303533           0.192319       -1.000000   \n",
              "Y                          -0.081602          -0.103633        0.014570   \n",
              "\n",
              "                   direction_opp         Y  \n",
              "temperature            -0.097085  0.061240  \n",
              "has_children            0.031620 -0.045557  \n",
              "toCoupon_GEQ5min             NaN       NaN  \n",
              "toCoupon_GEQ15min       0.303533 -0.081602  \n",
              "toCoupon_GEQ25min       0.192319 -0.103633  \n",
              "direction_same         -1.000000  0.014570  \n",
              "direction_opp           1.000000 -0.014570  \n",
              "Y                      -0.014570  1.000000  "
            ],
            "text/html": [
              "\n",
              "  <div id=\"df-2b6702f9-202a-4cae-b4d8-bcd4f00d432e\" class=\"colab-df-container\">\n",
              "    <div>\n",
              "<style scoped>\n",
              "    .dataframe tbody tr th:only-of-type {\n",
              "        vertical-align: middle;\n",
              "    }\n",
              "\n",
              "    .dataframe tbody tr th {\n",
              "        vertical-align: top;\n",
              "    }\n",
              "\n",
              "    .dataframe thead th {\n",
              "        text-align: right;\n",
              "    }\n",
              "</style>\n",
              "<table border=\"1\" class=\"dataframe\">\n",
              "  <thead>\n",
              "    <tr style=\"text-align: right;\">\n",
              "      <th></th>\n",
              "      <th>temperature</th>\n",
              "      <th>has_children</th>\n",
              "      <th>toCoupon_GEQ5min</th>\n",
              "      <th>toCoupon_GEQ15min</th>\n",
              "      <th>toCoupon_GEQ25min</th>\n",
              "      <th>direction_same</th>\n",
              "      <th>direction_opp</th>\n",
              "      <th>Y</th>\n",
              "    </tr>\n",
              "  </thead>\n",
              "  <tbody>\n",
              "    <tr>\n",
              "      <th>temperature</th>\n",
              "      <td>1.000000</td>\n",
              "      <td>-0.019716</td>\n",
              "      <td>NaN</td>\n",
              "      <td>-0.155332</td>\n",
              "      <td>-0.216254</td>\n",
              "      <td>0.097085</td>\n",
              "      <td>-0.097085</td>\n",
              "      <td>0.061240</td>\n",
              "    </tr>\n",
              "    <tr>\n",
              "      <th>has_children</th>\n",
              "      <td>-0.019716</td>\n",
              "      <td>1.000000</td>\n",
              "      <td>NaN</td>\n",
              "      <td>0.078211</td>\n",
              "      <td>-0.013722</td>\n",
              "      <td>-0.031620</td>\n",
              "      <td>0.031620</td>\n",
              "      <td>-0.045557</td>\n",
              "    </tr>\n",
              "    <tr>\n",
              "      <th>toCoupon_GEQ5min</th>\n",
              "      <td>NaN</td>\n",
              "      <td>NaN</td>\n",
              "      <td>NaN</td>\n",
              "      <td>NaN</td>\n",
              "      <td>NaN</td>\n",
              "      <td>NaN</td>\n",
              "      <td>NaN</td>\n",
              "      <td>NaN</td>\n",
              "    </tr>\n",
              "    <tr>\n",
              "      <th>toCoupon_GEQ15min</th>\n",
              "      <td>-0.155332</td>\n",
              "      <td>0.078211</td>\n",
              "      <td>NaN</td>\n",
              "      <td>1.000000</td>\n",
              "      <td>0.324984</td>\n",
              "      <td>-0.303533</td>\n",
              "      <td>0.303533</td>\n",
              "      <td>-0.081602</td>\n",
              "    </tr>\n",
              "    <tr>\n",
              "      <th>toCoupon_GEQ25min</th>\n",
              "      <td>-0.216254</td>\n",
              "      <td>-0.013722</td>\n",
              "      <td>NaN</td>\n",
              "      <td>0.324984</td>\n",
              "      <td>1.000000</td>\n",
              "      <td>-0.192319</td>\n",
              "      <td>0.192319</td>\n",
              "      <td>-0.103633</td>\n",
              "    </tr>\n",
              "    <tr>\n",
              "      <th>direction_same</th>\n",
              "      <td>0.097085</td>\n",
              "      <td>-0.031620</td>\n",
              "      <td>NaN</td>\n",
              "      <td>-0.303533</td>\n",
              "      <td>-0.192319</td>\n",
              "      <td>1.000000</td>\n",
              "      <td>-1.000000</td>\n",
              "      <td>0.014570</td>\n",
              "    </tr>\n",
              "    <tr>\n",
              "      <th>direction_opp</th>\n",
              "      <td>-0.097085</td>\n",
              "      <td>0.031620</td>\n",
              "      <td>NaN</td>\n",
              "      <td>0.303533</td>\n",
              "      <td>0.192319</td>\n",
              "      <td>-1.000000</td>\n",
              "      <td>1.000000</td>\n",
              "      <td>-0.014570</td>\n",
              "    </tr>\n",
              "    <tr>\n",
              "      <th>Y</th>\n",
              "      <td>0.061240</td>\n",
              "      <td>-0.045557</td>\n",
              "      <td>NaN</td>\n",
              "      <td>-0.081602</td>\n",
              "      <td>-0.103633</td>\n",
              "      <td>0.014570</td>\n",
              "      <td>-0.014570</td>\n",
              "      <td>1.000000</td>\n",
              "    </tr>\n",
              "  </tbody>\n",
              "</table>\n",
              "</div>\n",
              "    <div class=\"colab-df-buttons\">\n",
              "\n",
              "  <div class=\"colab-df-container\">\n",
              "    <button class=\"colab-df-convert\" onclick=\"convertToInteractive('df-2b6702f9-202a-4cae-b4d8-bcd4f00d432e')\"\n",
              "            title=\"Convert this dataframe to an interactive table.\"\n",
              "            style=\"display:none;\">\n",
              "\n",
              "  <svg xmlns=\"http://www.w3.org/2000/svg\" height=\"24px\" viewBox=\"0 -960 960 960\">\n",
              "    <path d=\"M120-120v-720h720v720H120Zm60-500h600v-160H180v160Zm220 220h160v-160H400v160Zm0 220h160v-160H400v160ZM180-400h160v-160H180v160Zm440 0h160v-160H620v160ZM180-180h160v-160H180v160Zm440 0h160v-160H620v160Z\"/>\n",
              "  </svg>\n",
              "    </button>\n",
              "\n",
              "  <style>\n",
              "    .colab-df-container {\n",
              "      display:flex;\n",
              "      gap: 12px;\n",
              "    }\n",
              "\n",
              "    .colab-df-convert {\n",
              "      background-color: #E8F0FE;\n",
              "      border: none;\n",
              "      border-radius: 50%;\n",
              "      cursor: pointer;\n",
              "      display: none;\n",
              "      fill: #1967D2;\n",
              "      height: 32px;\n",
              "      padding: 0 0 0 0;\n",
              "      width: 32px;\n",
              "    }\n",
              "\n",
              "    .colab-df-convert:hover {\n",
              "      background-color: #E2EBFA;\n",
              "      box-shadow: 0px 1px 2px rgba(60, 64, 67, 0.3), 0px 1px 3px 1px rgba(60, 64, 67, 0.15);\n",
              "      fill: #174EA6;\n",
              "    }\n",
              "\n",
              "    .colab-df-buttons div {\n",
              "      margin-bottom: 4px;\n",
              "    }\n",
              "\n",
              "    [theme=dark] .colab-df-convert {\n",
              "      background-color: #3B4455;\n",
              "      fill: #D2E3FC;\n",
              "    }\n",
              "\n",
              "    [theme=dark] .colab-df-convert:hover {\n",
              "      background-color: #434B5C;\n",
              "      box-shadow: 0px 1px 3px 1px rgba(0, 0, 0, 0.15);\n",
              "      filter: drop-shadow(0px 1px 2px rgba(0, 0, 0, 0.3));\n",
              "      fill: #FFFFFF;\n",
              "    }\n",
              "  </style>\n",
              "\n",
              "    <script>\n",
              "      const buttonEl =\n",
              "        document.querySelector('#df-2b6702f9-202a-4cae-b4d8-bcd4f00d432e button.colab-df-convert');\n",
              "      buttonEl.style.display =\n",
              "        google.colab.kernel.accessAllowed ? 'block' : 'none';\n",
              "\n",
              "      async function convertToInteractive(key) {\n",
              "        const element = document.querySelector('#df-2b6702f9-202a-4cae-b4d8-bcd4f00d432e');\n",
              "        const dataTable =\n",
              "          await google.colab.kernel.invokeFunction('convertToInteractive',\n",
              "                                                    [key], {});\n",
              "        if (!dataTable) return;\n",
              "\n",
              "        const docLinkHtml = 'Like what you see? Visit the ' +\n",
              "          '<a target=\"_blank\" href=https://colab.research.google.com/notebooks/data_table.ipynb>data table notebook</a>'\n",
              "          + ' to learn more about interactive tables.';\n",
              "        element.innerHTML = '';\n",
              "        dataTable['output_type'] = 'display_data';\n",
              "        await google.colab.output.renderOutput(dataTable, element);\n",
              "        const docLink = document.createElement('div');\n",
              "        docLink.innerHTML = docLinkHtml;\n",
              "        element.appendChild(docLink);\n",
              "      }\n",
              "    </script>\n",
              "  </div>\n",
              "\n",
              "\n",
              "<div id=\"df-903a2764-e697-43f4-944a-363ac8c25c2e\">\n",
              "  <button class=\"colab-df-quickchart\" onclick=\"quickchart('df-903a2764-e697-43f4-944a-363ac8c25c2e')\"\n",
              "            title=\"Suggest charts\"\n",
              "            style=\"display:none;\">\n",
              "\n",
              "<svg xmlns=\"http://www.w3.org/2000/svg\" height=\"24px\"viewBox=\"0 0 24 24\"\n",
              "     width=\"24px\">\n",
              "    <g>\n",
              "        <path d=\"M19 3H5c-1.1 0-2 .9-2 2v14c0 1.1.9 2 2 2h14c1.1 0 2-.9 2-2V5c0-1.1-.9-2-2-2zM9 17H7v-7h2v7zm4 0h-2V7h2v10zm4 0h-2v-4h2v4z\"/>\n",
              "    </g>\n",
              "</svg>\n",
              "  </button>\n",
              "\n",
              "<style>\n",
              "  .colab-df-quickchart {\n",
              "      --bg-color: #E8F0FE;\n",
              "      --fill-color: #1967D2;\n",
              "      --hover-bg-color: #E2EBFA;\n",
              "      --hover-fill-color: #174EA6;\n",
              "      --disabled-fill-color: #AAA;\n",
              "      --disabled-bg-color: #DDD;\n",
              "  }\n",
              "\n",
              "  [theme=dark] .colab-df-quickchart {\n",
              "      --bg-color: #3B4455;\n",
              "      --fill-color: #D2E3FC;\n",
              "      --hover-bg-color: #434B5C;\n",
              "      --hover-fill-color: #FFFFFF;\n",
              "      --disabled-bg-color: #3B4455;\n",
              "      --disabled-fill-color: #666;\n",
              "  }\n",
              "\n",
              "  .colab-df-quickchart {\n",
              "    background-color: var(--bg-color);\n",
              "    border: none;\n",
              "    border-radius: 50%;\n",
              "    cursor: pointer;\n",
              "    display: none;\n",
              "    fill: var(--fill-color);\n",
              "    height: 32px;\n",
              "    padding: 0;\n",
              "    width: 32px;\n",
              "  }\n",
              "\n",
              "  .colab-df-quickchart:hover {\n",
              "    background-color: var(--hover-bg-color);\n",
              "    box-shadow: 0 1px 2px rgba(60, 64, 67, 0.3), 0 1px 3px 1px rgba(60, 64, 67, 0.15);\n",
              "    fill: var(--button-hover-fill-color);\n",
              "  }\n",
              "\n",
              "  .colab-df-quickchart-complete:disabled,\n",
              "  .colab-df-quickchart-complete:disabled:hover {\n",
              "    background-color: var(--disabled-bg-color);\n",
              "    fill: var(--disabled-fill-color);\n",
              "    box-shadow: none;\n",
              "  }\n",
              "\n",
              "  .colab-df-spinner {\n",
              "    border: 2px solid var(--fill-color);\n",
              "    border-color: transparent;\n",
              "    border-bottom-color: var(--fill-color);\n",
              "    animation:\n",
              "      spin 1s steps(1) infinite;\n",
              "  }\n",
              "\n",
              "  @keyframes spin {\n",
              "    0% {\n",
              "      border-color: transparent;\n",
              "      border-bottom-color: var(--fill-color);\n",
              "      border-left-color: var(--fill-color);\n",
              "    }\n",
              "    20% {\n",
              "      border-color: transparent;\n",
              "      border-left-color: var(--fill-color);\n",
              "      border-top-color: var(--fill-color);\n",
              "    }\n",
              "    30% {\n",
              "      border-color: transparent;\n",
              "      border-left-color: var(--fill-color);\n",
              "      border-top-color: var(--fill-color);\n",
              "      border-right-color: var(--fill-color);\n",
              "    }\n",
              "    40% {\n",
              "      border-color: transparent;\n",
              "      border-right-color: var(--fill-color);\n",
              "      border-top-color: var(--fill-color);\n",
              "    }\n",
              "    60% {\n",
              "      border-color: transparent;\n",
              "      border-right-color: var(--fill-color);\n",
              "    }\n",
              "    80% {\n",
              "      border-color: transparent;\n",
              "      border-right-color: var(--fill-color);\n",
              "      border-bottom-color: var(--fill-color);\n",
              "    }\n",
              "    90% {\n",
              "      border-color: transparent;\n",
              "      border-bottom-color: var(--fill-color);\n",
              "    }\n",
              "  }\n",
              "</style>\n",
              "\n",
              "  <script>\n",
              "    async function quickchart(key) {\n",
              "      const quickchartButtonEl =\n",
              "        document.querySelector('#' + key + ' button');\n",
              "      quickchartButtonEl.disabled = true;  // To prevent multiple clicks.\n",
              "      quickchartButtonEl.classList.add('colab-df-spinner');\n",
              "      try {\n",
              "        const charts = await google.colab.kernel.invokeFunction(\n",
              "            'suggestCharts', [key], {});\n",
              "      } catch (error) {\n",
              "        console.error('Error during call to suggestCharts:', error);\n",
              "      }\n",
              "      quickchartButtonEl.classList.remove('colab-df-spinner');\n",
              "      quickchartButtonEl.classList.add('colab-df-quickchart-complete');\n",
              "    }\n",
              "    (() => {\n",
              "      let quickchartButtonEl =\n",
              "        document.querySelector('#df-903a2764-e697-43f4-944a-363ac8c25c2e button');\n",
              "      quickchartButtonEl.style.display =\n",
              "        google.colab.kernel.accessAllowed ? 'block' : 'none';\n",
              "    })();\n",
              "  </script>\n",
              "</div>\n",
              "\n",
              "    </div>\n",
              "  </div>\n"
            ],
            "application/vnd.google.colaboratory.intrinsic+json": {
              "type": "dataframe",
              "summary": "{\n  \"name\": \"data\",\n  \"rows\": 8,\n  \"fields\": [\n    {\n      \"column\": \"temperature\",\n      \"properties\": {\n        \"dtype\": \"number\",\n        \"std\": 0.41427993411249314,\n        \"min\": -0.21625389614523607,\n        \"max\": 1.0,\n        \"num_unique_values\": 7,\n        \"samples\": [\n          1.0,\n          -0.019715612761677746,\n          -0.09708531423198362\n        ],\n        \"semantic_type\": \"\",\n        \"description\": \"\"\n      }\n    },\n    {\n      \"column\": \"has_children\",\n      \"properties\": {\n        \"dtype\": \"number\",\n        \"std\": 0.3803804516422809,\n        \"min\": -0.04555715417081266,\n        \"max\": 1.0,\n        \"num_unique_values\": 7,\n        \"samples\": [\n          -0.019715612761677746,\n          1.0,\n          0.03162022472035772\n        ],\n        \"semantic_type\": \"\",\n        \"description\": \"\"\n      }\n    },\n    {\n      \"column\": \"toCoupon_GEQ5min\",\n      \"properties\": {\n        \"dtype\": \"number\",\n        \"std\": null,\n        \"min\": null,\n        \"max\": null,\n        \"num_unique_values\": 0,\n        \"samples\": [],\n        \"semantic_type\": \"\",\n        \"description\": \"\"\n      }\n    },\n    {\n      \"column\": \"toCoupon_GEQ15min\",\n      \"properties\": {\n        \"dtype\": \"number\",\n        \"std\": 0.4344486469778198,\n        \"min\": -0.3035330810056719,\n        \"max\": 1.0,\n        \"num_unique_values\": 7,\n        \"samples\": [],\n        \"semantic_type\": \"\",\n        \"description\": \"\"\n      }\n    },\n    {\n      \"column\": \"toCoupon_GEQ25min\",\n      \"properties\": {\n        \"dtype\": \"number\",\n        \"std\": 0.42756632984450904,\n        \"min\": -0.21625389614523607,\n        \"max\": 1.0,\n        \"num_unique_values\": 7,\n        \"samples\": [],\n        \"semantic_type\": \"\",\n        \"description\": \"\"\n      }\n    },\n    {\n      \"column\": \"direction_same\",\n      \"properties\": {\n        \"dtype\": \"number\",\n        \"std\": 0.5937249645493032,\n        \"min\": -1.0,\n        \"max\": 1.0,\n        \"num_unique_values\": 7,\n        \"samples\": [],\n        \"semantic_type\": \"\",\n        \"description\": \"\"\n      }\n    },\n    {\n      \"column\": \"direction_opp\",\n      \"properties\": {\n        \"dtype\": \"number\",\n        \"std\": 0.5937249645493032,\n        \"min\": -1.0,\n        \"max\": 1.0,\n        \"num_unique_values\": 7,\n        \"samples\": [],\n        \"semantic_type\": \"\",\n        \"description\": \"\"\n      }\n    },\n    {\n      \"column\": \"Y\",\n      \"properties\": {\n        \"dtype\": \"number\",\n        \"std\": 0.39266789550035175,\n        \"min\": -0.10363329084381251,\n        \"max\": 1.0,\n        \"num_unique_values\": 7,\n        \"samples\": [],\n        \"semantic_type\": \"\",\n        \"description\": \"\"\n      }\n    }\n  ]\n}"
            }
          },
          "metadata": {},
          "execution_count": 98
        }
      ],
      "source": [
        "filtered_df1=data.groupby(['coupon','Y','gender','passanger','destination'])['Y'].sum()\n",
        "print(filtered_df1)\n",
        "\n",
        "data.corr()"
      ]
    },
    {
      "cell_type": "code",
      "source": [],
      "metadata": {
        "id": "VQDGNXtkY88p"
      },
      "execution_count": null,
      "outputs": []
    },
    {
      "cell_type": "markdown",
      "metadata": {
        "id": "X_tqBMoM7Vfq"
      },
      "source": [
        "### Independent Investigation\n",
        "\n",
        "Using the bar coupon example as motivation, you are to explore one of the other coupon groups and try to determine the characteristics of passengers who accept the coupons.  "
      ]
    },
    {
      "cell_type": "code",
      "execution_count": 99,
      "metadata": {
        "id": "zUl2ZDwR7Vfq",
        "colab": {
          "base_uri": "https://localhost:8080/"
        },
        "outputId": "ddf21b6e-bb63-4b73-aea3-a2f885ae6c5c"
      },
      "outputs": [
        {
          "output_type": "stream",
          "name": "stdout",
          "text": [
            "coupon                 Y  passanger\n",
            "Bar                    1  Alone         489\n",
            "                          Friend(s)     188\n",
            "                          Kid(s)         43\n",
            "                          Partner       107\n",
            "Carry out & Take away  1  Alone        1022\n",
            "                          Friend(s)     560\n",
            "                          Kid(s)        107\n",
            "                          Partner        71\n",
            "Coffee House           1  Alone         988\n",
            "                          Friend(s)     733\n",
            "                          Kid(s)        100\n",
            "                          Partner       174\n",
            "Restaurant(20-50)      1  Alone         426\n",
            "                          Friend(s)      78\n",
            "                          Kid(s)         65\n",
            "                          Partner        89\n",
            "Restaurant(<20)        1  Alone         916\n",
            "                          Friend(s)     662\n",
            "                          Kid(s)        193\n",
            "                          Partner       199\n",
            "Name: Y, dtype: int64\n"
          ]
        }
      ],
      "source": [
        "\n",
        "filtered_df1=data.query('Y==1')\n",
        "filtered_df1=filtered_df1.groupby(['coupon','Y','passanger'])['Y'].sum()\n",
        "print(filtered_df1)"
      ]
    },
    {
      "cell_type": "code",
      "execution_count": null,
      "metadata": {
        "id": "jp0SFjoi7Vfq",
        "colab": {
          "base_uri": "https://localhost:8080/",
          "height": 430
        },
        "outputId": "e7a1cb48-c876-4196-d266-3928e4c15e63"
      },
      "outputs": [
        {
          "output_type": "display_data",
          "data": {
            "text/plain": [
              "<Figure size 640x480 with 1 Axes>"
            ],
            "image/png": "[encoded data removed]"
          },
          "metadata": {}
        }
      ],
      "source": [
        "#filtered_df1=data.groupby(['coupon','Y','passanger'])['Y'].hist()"
      ]
    },
    {
      "cell_type": "code",
      "execution_count": null,
      "metadata": {
        "id": "mf3dzLgx7Vfq"
      },
      "outputs": [],
      "source": [
        "# prompt: what can you hipotize from the dataset (data) above\n",
        "\n",
        "# The data suggests that:\n",
        "\n",
        "# - Bar coupons were accepted by about 16% of drivers.\n",
        "# - Drivers who went to a bar less than 3 times a month were more likely to accept the bar coupon than those who went more than 3 times a month.\n",
        "# - Drivers who were over the age of 25 and went to a bar more than once a month were more likely to accept the bar coupon than those who were under the age of 25 or went to a bar less than once a month.\n",
        "# - Drivers who went to bars more than once a month and had passengers that were not kids were more likely to accept the bar coupon than those who had kids as passengers.\n",
        "# - Drivers who went to bars more than once a month and had occupations other than farming, fishing, or forestry were more likely to accept the bar coupon than those who had occupations in those fields.\n",
        "# - Drivers who went to cheap restaurants more than 4 times a month and had incomes less than $50,000 were more likely to accept the bar coupon than those who went to cheap restaurants less than 4 times a month or had incomes greater than $50,000.\n",
        "\n",
        "# Based on these observations, we can hypothesize that drivers who accepted the bar coupons were more likely to be:\n",
        "\n",
        "# - Male\n",
        "# - Over the age of 25\n",
        "# - Had passengers that were not kids\n",
        "# - Had occupations other than farming, fishing, or forestry\n",
        "# - Went to bars more than once a month\n",
        "# - Had incomes less than $50,000\n",
        "# - Went to cheap restaurants more than 4 times a month\n",
        "\n",
        "# These drivers may have been more likely to accept the bar coupons because they were more likely to be interested in going to bars and because they were more likely to be able to afford to go to bars.\n",
        "\n"
      ]
    },
    {
      "cell_type": "code",
      "execution_count": null,
      "metadata": {
        "id": "DHqXq0_K7Vfr"
      },
      "outputs": [],
      "source": []
    },
    {
      "cell_type": "code",
      "execution_count": null,
      "metadata": {
        "id": "9XWiZha87Vfr"
      },
      "outputs": [],
      "source": []
    }
  ],
  "metadata": {
    "kernelspec": {
      "display_name": "Python 3",
      "language": "python",
      "name": "python3"
    },
    "language_info": {
      "codemirror_mode": {
        "name": "ipython",
        "version": 3
      },
      "file_extension": ".py",
      "mimetype": "text/x-python",
      "name": "python",
      "nbconvert_exporter": "python",
      "pygments_lexer": "ipython3",
      "version": "3.8.8"
    },
    "colab": {
      "provenance": [],
      "include_colab_link": true
    }
  },
  "nbformat": 4,
  "nbformat_minor": 0
}